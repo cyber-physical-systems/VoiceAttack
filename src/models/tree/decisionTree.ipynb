{
 "cells": [
  {
   "cell_type": "code",
   "execution_count": null,
   "metadata": {},
   "outputs": [],
   "source": [
    "import pandas as pd\n",
    "import numpy as np\n",
    "from sklearn.model_selection import train_test_split\n",
    "from sklearn.tree import DecisionTreeClassifier\n",
    "from sklearn.metrics import accuracy_score\n",
    "from sklearn.impute import SimpleImputer\n",
    "\n",
    "# Load the data\n",
    "data_path = ''\n",
    "data = pd.read_csv(data_path)\n",
    "\n",
    "# Replace infinite values with NaN to handle them properly\n",
    "data.replace([np.inf, -np.inf], np.nan, inplace=True)\n",
    "\n",
    "# Impute missing values using the median of each column\n",
    "imputer = SimpleImputer(strategy='median')\n",
    "X = data.drop('label', axis=1)\n",
    "y = data['label']\n",
    "X_imputed = imputer.fit_transform(X)\n",
    "\n",
    "# Split the data into training and testing sets\n",
    "X_train, X_test, y_train, y_test = train_test_split(X_imputed, y, test_size=0.2, random_state=42)\n",
    "\n",
    "# Initialize and train the Decision Tree Classifier\n",
    "tree_model = DecisionTreeClassifier(random_state=42)\n",
    "tree_model.fit(X_train, y_train)\n",
    "\n",
    "# Make predictions\n",
    "y_pred = tree_model.predict(X_test)\n",
    "\n",
    "# Calculate accuracy\n",
    "accuracy = accuracy_score(y_test, y_pred)\n",
    "print(f\"Accuracy: {accuracy:.4f}\")\n",
    "\n",
    "# Get feature importances\n",
    "importances = tree_model.feature_importances_\n",
    "\n",
    "# Create a DataFrame of features and their importances\n",
    "feature_importances = pd.DataFrame({'feature': X.columns, 'importance': importances})\n",
    "\n",
    "# Sort the DataFrame by importance in descending order\n",
    "feature_importances_sorted = feature_importances.sort_values(by='importance', ascending=False)\n",
    "\n",
    "# Print sorted feature importances\n",
    "print(\"Sorted Feature Importances:\")\n",
    "print(feature_importances_sorted)\n"
   ]
  },
  {
   "cell_type": "code",
   "execution_count": null,
   "metadata": {},
   "outputs": [],
   "source": [
    "# Select the top 15 features based on importance\n",
    "top_features = feature_importances_sorted.head(15)['feature'].values\n",
    "\n",
    "# Subset the training and testing sets to include only the top 15 features\n",
    "indices = [list(X.columns).index(feat) for feat in top_features]  # Find column indices for top features\n",
    "X_train_reduced = X_train[:, indices]\n",
    "X_test_reduced = X_test[:, indices]\n",
    "\n",
    "# Retrain the model on the reduced dataset\n",
    "model_reduced = DecisionTreeClassifier(random_state=42)\n",
    "model_reduced.fit(X_train_reduced, y_train)\n",
    "\n",
    "# Make predictions with the reduced model\n",
    "y_pred_reduced = model_reduced.predict(X_test_reduced)\n",
    "\n",
    "# Evaluate the reduced model\n",
    "accuracy_reduced = accuracy_score(y_test, y_pred_reduced)\n",
    "\n",
    "# Print the model evaluation metrics for the reduced model\n",
    "print(f\"Top 15 Features Model Accuracy: {accuracy_reduced:.4f}\")\n"
   ]
  },
  {
   "cell_type": "code",
   "execution_count": null,
   "metadata": {},
   "outputs": [],
   "source": []
  },
  {
   "cell_type": "code",
   "execution_count": null,
   "metadata": {},
   "outputs": [],
   "source": []
  },
  {
   "cell_type": "code",
   "execution_count": null,
   "metadata": {},
   "outputs": [],
   "source": []
  },
  {
   "cell_type": "code",
   "execution_count": null,
   "metadata": {},
   "outputs": [],
   "source": []
  },
  {
   "cell_type": "code",
   "execution_count": null,
   "metadata": {},
   "outputs": [],
   "source": []
  },
  {
   "cell_type": "code",
   "execution_count": null,
   "metadata": {},
   "outputs": [],
   "source": []
  },
  {
   "cell_type": "code",
   "execution_count": null,
   "metadata": {},
   "outputs": [],
   "source": []
  }
 ],
 "metadata": {
  "kernelspec": {
   "display_name": "ame",
   "language": "python",
   "name": "python3"
  },
  "language_info": {
   "codemirror_mode": {
    "name": "ipython",
    "version": 3
   },
   "file_extension": ".py",
   "mimetype": "text/x-python",
   "name": "python",
   "nbconvert_exporter": "python",
   "pygments_lexer": "ipython3",
   "version": "3.9.18"
  }
 },
 "nbformat": 4,
 "nbformat_minor": 2
}
